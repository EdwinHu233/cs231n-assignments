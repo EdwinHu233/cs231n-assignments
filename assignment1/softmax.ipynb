{
 "cells": [
  {
   "cell_type": "markdown",
   "metadata": {},
   "source": [
    "# Softmax exercise\n",
    "\n",
    "*Complete and hand in this completed worksheet (including its outputs and any supporting code outside of the worksheet) with your assignment submission. For more details see the [assignments page](http://vision.stanford.edu/teaching/cs231n/assignments.html) on the course website.*\n",
    "\n",
    "This exercise is analogous to the SVM exercise. You will:\n",
    "\n",
    "- implement a fully-vectorized **loss function** for the Softmax classifier\n",
    "- implement the fully-vectorized expression for its **analytic gradient**\n",
    "- **check your implementation** with numerical gradient\n",
    "- use a validation set to **tune the learning rate and regularization** strength\n",
    "- **optimize** the loss function with **SGD**\n",
    "- **visualize** the final learned weights\n"
   ]
  },
  {
   "cell_type": "code",
   "execution_count": 2,
   "metadata": {},
   "outputs": [],
   "source": [
    "import random\n",
    "import numpy as np\n",
    "from cs231n.data_utils import load_CIFAR10\n",
    "import matplotlib.pyplot as plt\n",
    "\n",
    "# from __future__ import print_function\n",
    "\n",
    "%matplotlib inline\n",
    "plt.rcParams['figure.figsize'] = (10.0, 8.0) # set default size of plots\n",
    "plt.rcParams['image.interpolation'] = 'nearest'\n",
    "plt.rcParams['image.cmap'] = 'gray'\n",
    "\n",
    "# for auto-reloading extenrnal modules\n",
    "# see http://stackoverflow.com/questions/1907993/autoreload-of-modules-in-ipython\n",
    "%load_ext autoreload\n",
    "%autoreload 2"
   ]
  },
  {
   "cell_type": "code",
   "execution_count": 3,
   "metadata": {},
   "outputs": [
    {
     "name": "stdout",
     "output_type": "stream",
     "text": [
      "Train data shape:  (49000, 3073)\n",
      "Train labels shape:  (49000,)\n",
      "Validation data shape:  (1000, 3073)\n",
      "Validation labels shape:  (1000,)\n",
      "Test data shape:  (1000, 3073)\n",
      "Test labels shape:  (1000,)\n",
      "dev data shape:  (500, 3073)\n",
      "dev labels shape:  (500,)\n"
     ]
    }
   ],
   "source": [
    "def get_CIFAR10_data(num_training=49000, num_validation=1000, num_test=1000, num_dev=500):\n",
    "    \"\"\"\n",
    "    Load the CIFAR-10 dataset from disk and perform preprocessing to prepare\n",
    "    it for the linear classifier. These are the same steps as we used for the\n",
    "    SVM, but condensed to a single function.  \n",
    "    \"\"\"\n",
    "    # Load the raw CIFAR-10 data\n",
    "    cifar10_dir = 'cs231n/datasets/cifar-10-batches-py'\n",
    "    \n",
    "    X_train, y_train, X_test, y_test = load_CIFAR10(cifar10_dir)\n",
    "    \n",
    "    # subsample the data\n",
    "    mask = list(range(num_training, num_training + num_validation))\n",
    "    X_val = X_train[mask]\n",
    "    y_val = y_train[mask]\n",
    "    mask = list(range(num_training))\n",
    "    X_train = X_train[mask]\n",
    "    y_train = y_train[mask]\n",
    "    mask = list(range(num_test))\n",
    "    X_test = X_test[mask]\n",
    "    y_test = y_test[mask]\n",
    "    mask = np.random.choice(num_training, num_dev, replace=False)\n",
    "    X_dev = X_train[mask]\n",
    "    y_dev = y_train[mask]\n",
    "    \n",
    "    # Preprocessing: reshape the image data into rows\n",
    "    X_train = np.reshape(X_train, (X_train.shape[0], -1))\n",
    "    X_val = np.reshape(X_val, (X_val.shape[0], -1))\n",
    "    X_test = np.reshape(X_test, (X_test.shape[0], -1))\n",
    "    X_dev = np.reshape(X_dev, (X_dev.shape[0], -1))\n",
    "    \n",
    "    # Normalize the data: subtract the mean image\n",
    "    mean_image = np.mean(X_train, axis = 0)\n",
    "    X_train -= mean_image\n",
    "    X_val -= mean_image\n",
    "    X_test -= mean_image\n",
    "    X_dev -= mean_image\n",
    "    \n",
    "    # add bias dimension and transform into columns\n",
    "    X_train = np.hstack([X_train, np.ones((X_train.shape[0], 1))])\n",
    "    X_val = np.hstack([X_val, np.ones((X_val.shape[0], 1))])\n",
    "    X_test = np.hstack([X_test, np.ones((X_test.shape[0], 1))])\n",
    "    X_dev = np.hstack([X_dev, np.ones((X_dev.shape[0], 1))])\n",
    "    \n",
    "    return X_train, y_train, X_val, y_val, X_test, y_test, X_dev, y_dev\n",
    "\n",
    "\n",
    "# Cleaning up variables to prevent loading data multiple times (which may cause memory issue)\n",
    "try:\n",
    "   del X_train, y_train\n",
    "   del X_test, y_test\n",
    "   print('Clear previously loaded data.')\n",
    "except:\n",
    "   pass\n",
    "\n",
    "# Invoke the above function to get our data.\n",
    "X_train, y_train, X_val, y_val, X_test, y_test, X_dev, y_dev = get_CIFAR10_data()\n",
    "print('Train data shape: ', X_train.shape)\n",
    "print('Train labels shape: ', y_train.shape)\n",
    "print('Validation data shape: ', X_val.shape)\n",
    "print('Validation labels shape: ', y_val.shape)\n",
    "print('Test data shape: ', X_test.shape)\n",
    "print('Test labels shape: ', y_test.shape)\n",
    "print('dev data shape: ', X_dev.shape)\n",
    "print('dev labels shape: ', y_dev.shape)"
   ]
  },
  {
   "cell_type": "markdown",
   "metadata": {},
   "source": [
    "## Softmax Classifier\n",
    "\n",
    "Your code for this section will all be written inside **cs231n/classifiers/softmax.py**. \n"
   ]
  },
  {
   "cell_type": "code",
   "execution_count": 12,
   "metadata": {
    "scrolled": false
   },
   "outputs": [
    {
     "name": "stdout",
     "output_type": "stream",
     "text": [
      "loss: 2.264843\n",
      "sanity check: 2.302585\n"
     ]
    }
   ],
   "source": [
    "# First implement the naive softmax loss function with nested loops.\n",
    "# Open the file cs231n/classifiers/softmax.py and implement the\n",
    "# softmax_loss_naive function.\n",
    "\n",
    "from cs231n.classifiers.softmax import softmax_loss_naive\n",
    "import time\n",
    "\n",
    "# Generate a random softmax weight matrix and use it to compute the loss.\n",
    "W = np.random.randn(3073, 10) * 0.0001\n",
    "loss, grad = softmax_loss_naive(W, X_dev, y_dev, 0.0)\n",
    "\n",
    "# As a rough sanity check, our loss should be something close to -log(0.1).\n",
    "print('loss: %f' % loss)\n",
    "print('sanity check: %f' % (-np.log(0.1)))"
   ]
  },
  {
   "cell_type": "markdown",
   "metadata": {},
   "source": [
    "## Inline Question 1:\n",
    "Why do we expect our loss to be close to -log(0.1)? Explain briefly.**\n",
    "\n",
    "**Your answer:** *Fill this in*\n"
   ]
  },
  {
   "cell_type": "code",
   "execution_count": 13,
   "metadata": {},
   "outputs": [
    {
     "name": "stdout",
     "output_type": "stream",
     "text": [
      "numerical: -2.442596 analytic: -2.442596, relative error: 2.332626e-08\n",
      "numerical: 0.869799 analytic: 0.869799, relative error: 2.520483e-08\n",
      "numerical: 1.098412 analytic: 1.098412, relative error: 6.103315e-08\n",
      "numerical: 0.901225 analytic: 0.901225, relative error: 2.722210e-09\n",
      "numerical: 0.428138 analytic: 0.428138, relative error: 1.405525e-07\n",
      "numerical: -0.831210 analytic: -0.831210, relative error: 8.277922e-08\n",
      "numerical: -0.297872 analytic: -0.297873, relative error: 2.711874e-07\n",
      "numerical: -1.244443 analytic: -1.244443, relative error: 1.668525e-08\n",
      "numerical: 3.164127 analytic: 3.164127, relative error: 1.996551e-08\n",
      "numerical: -0.968832 analytic: -0.968832, relative error: 9.626537e-08\n",
      "numerical: 0.535106 analytic: 0.535106, relative error: 1.107765e-07\n",
      "numerical: -0.626740 analytic: -0.626740, relative error: 6.554410e-09\n",
      "numerical: -0.158407 analytic: -0.158407, relative error: 9.065491e-08\n",
      "numerical: 1.797329 analytic: 1.797329, relative error: 4.161187e-09\n",
      "numerical: 0.462909 analytic: 0.462909, relative error: 6.114551e-08\n",
      "numerical: -0.999798 analytic: -0.999798, relative error: 1.589370e-08\n",
      "numerical: 3.538024 analytic: 3.538024, relative error: 1.311617e-08\n",
      "numerical: 0.008729 analytic: 0.008729, relative error: 4.999215e-06\n",
      "numerical: 0.053690 analytic: 0.053691, relative error: 8.501866e-07\n",
      "numerical: -0.828147 analytic: -0.828147, relative error: 3.000715e-08\n"
     ]
    }
   ],
   "source": [
    "# Complete the implementation of softmax_loss_naive and implement a (naive)\n",
    "# version of the gradient that uses nested loops.\n",
    "loss, grad = softmax_loss_naive(W, X_dev, y_dev, 0.0)\n",
    "\n",
    "# As we did for the SVM, use numeric gradient checking as a debugging tool.\n",
    "# The numeric gradient should be close to the analytic gradient.\n",
    "from cs231n.gradient_check import grad_check_sparse\n",
    "f = lambda w: softmax_loss_naive(w, X_dev, y_dev, 0.0)[0]\n",
    "grad_numerical = grad_check_sparse(f, W, grad, 10)\n",
    "\n",
    "# similar to SVM case, do another gradient check with regularization\n",
    "loss, grad = softmax_loss_naive(W, X_dev, y_dev, 5e1)\n",
    "f = lambda w: softmax_loss_naive(w, X_dev, y_dev, 5e1)[0]\n",
    "grad_numerical = grad_check_sparse(f, W, grad, 10)"
   ]
  },
  {
   "cell_type": "code",
   "execution_count": 16,
   "metadata": {},
   "outputs": [
    {
     "name": "stdout",
     "output_type": "stream",
     "text": [
      "naive loss: 2.264843e+00 computed in 0.032949s\n",
      "vectorized loss: 2.264843e+00 computed in 0.003433s\n",
      "Loss difference: 0.000000\n",
      "Gradient difference: 0.000000\n"
     ]
    }
   ],
   "source": [
    "# Now that we have a naive implementation of the softmax loss function and its gradient,\n",
    "# implement a vectorized version in softmax_loss_vectorized.\n",
    "# The two versions should compute the same results, but the vectorized version should be\n",
    "# much faster.\n",
    "tic = time.time()\n",
    "loss_naive, grad_naive = softmax_loss_naive(W, X_dev, y_dev, 0.000005)\n",
    "toc = time.time()\n",
    "print('naive loss: %e computed in %fs' % (loss_naive, toc - tic))\n",
    "\n",
    "from cs231n.classifiers.softmax import softmax_loss_vectorized\n",
    "tic = time.time()\n",
    "loss_vectorized, grad_vectorized = softmax_loss_vectorized(W, X_dev, y_dev, 0.000005)\n",
    "toc = time.time()\n",
    "print('vectorized loss: %e computed in %fs' % (loss_vectorized, toc - tic))\n",
    "\n",
    "# As we did for the SVM, we use the Frobenius norm to compare the two versions\n",
    "# of the gradient.\n",
    "grad_difference = np.linalg.norm(grad_naive - grad_vectorized, ord='fro')\n",
    "print('Loss difference: %f' % np.abs(loss_naive - loss_vectorized))\n",
    "print('Gradient difference: %f' % grad_difference)"
   ]
  },
  {
   "cell_type": "code",
   "execution_count": 38,
   "metadata": {},
   "outputs": [
    {
     "name": "stdout",
     "output_type": "stream",
     "text": [
      "lr 5.000000e-07 reg 5.000000e+03 train accuracy: 0.231612 val accuracy: 0.260000\n",
      "lr 5.000000e-07 reg 6.666667e+03 train accuracy: 0.222449 val accuracy: 0.240000\n",
      "lr 5.000000e-07 reg 8.333333e+03 train accuracy: 0.232429 val accuracy: 0.240000\n",
      "lr 5.000000e-07 reg 1.000000e+04 train accuracy: 0.257102 val accuracy: 0.264000\n",
      "lr 5.000000e-07 reg 1.166667e+04 train accuracy: 0.253612 val accuracy: 0.264000\n",
      "lr 5.000000e-07 reg 1.333333e+04 train accuracy: 0.270061 val accuracy: 0.268000\n",
      "lr 5.000000e-07 reg 1.500000e+04 train accuracy: 0.272592 val accuracy: 0.282000\n",
      "lr 5.000000e-07 reg 1.666667e+04 train accuracy: 0.283612 val accuracy: 0.286000\n",
      "lr 5.000000e-07 reg 1.833333e+04 train accuracy: 0.277510 val accuracy: 0.288000\n",
      "lr 5.000000e-07 reg 2.000000e+04 train accuracy: 0.290041 val accuracy: 0.312000\n",
      "lr 5.222222e-07 reg 5.000000e+03 train accuracy: 0.227980 val accuracy: 0.221000\n",
      "lr 5.222222e-07 reg 6.666667e+03 train accuracy: 0.240653 val accuracy: 0.262000\n",
      "lr 5.222222e-07 reg 8.333333e+03 train accuracy: 0.249857 val accuracy: 0.256000\n",
      "lr 5.222222e-07 reg 1.000000e+04 train accuracy: 0.252224 val accuracy: 0.258000\n",
      "lr 5.222222e-07 reg 1.166667e+04 train accuracy: 0.267061 val accuracy: 0.265000\n",
      "lr 5.222222e-07 reg 1.333333e+04 train accuracy: 0.278429 val accuracy: 0.283000\n",
      "lr 5.222222e-07 reg 1.500000e+04 train accuracy: 0.277755 val accuracy: 0.289000\n",
      "lr 5.222222e-07 reg 1.666667e+04 train accuracy: 0.295102 val accuracy: 0.316000\n",
      "lr 5.222222e-07 reg 1.833333e+04 train accuracy: 0.294796 val accuracy: 0.317000\n",
      "lr 5.222222e-07 reg 2.000000e+04 train accuracy: 0.304184 val accuracy: 0.308000\n",
      "lr 5.444444e-07 reg 5.000000e+03 train accuracy: 0.228327 val accuracy: 0.222000\n",
      "lr 5.444444e-07 reg 6.666667e+03 train accuracy: 0.239122 val accuracy: 0.215000\n",
      "lr 5.444444e-07 reg 8.333333e+03 train accuracy: 0.243755 val accuracy: 0.239000\n",
      "lr 5.444444e-07 reg 1.000000e+04 train accuracy: 0.244551 val accuracy: 0.241000\n",
      "lr 5.444444e-07 reg 1.166667e+04 train accuracy: 0.262898 val accuracy: 0.265000\n",
      "lr 5.444444e-07 reg 1.333333e+04 train accuracy: 0.278816 val accuracy: 0.276000\n",
      "lr 5.444444e-07 reg 1.500000e+04 train accuracy: 0.287898 val accuracy: 0.273000\n",
      "lr 5.444444e-07 reg 1.666667e+04 train accuracy: 0.295857 val accuracy: 0.313000\n",
      "lr 5.444444e-07 reg 1.833333e+04 train accuracy: 0.299776 val accuracy: 0.317000\n",
      "lr 5.444444e-07 reg 2.000000e+04 train accuracy: 0.299796 val accuracy: 0.300000\n",
      "lr 5.666667e-07 reg 5.000000e+03 train accuracy: 0.240857 val accuracy: 0.262000\n",
      "lr 5.666667e-07 reg 6.666667e+03 train accuracy: 0.243102 val accuracy: 0.239000\n",
      "lr 5.666667e-07 reg 8.333333e+03 train accuracy: 0.249306 val accuracy: 0.254000\n",
      "lr 5.666667e-07 reg 1.000000e+04 train accuracy: 0.262735 val accuracy: 0.273000\n",
      "lr 5.666667e-07 reg 1.166667e+04 train accuracy: 0.265102 val accuracy: 0.261000\n",
      "lr 5.666667e-07 reg 1.333333e+04 train accuracy: 0.283551 val accuracy: 0.284000\n",
      "lr 5.666667e-07 reg 1.500000e+04 train accuracy: 0.288980 val accuracy: 0.291000\n",
      "lr 5.666667e-07 reg 1.666667e+04 train accuracy: 0.302939 val accuracy: 0.325000\n",
      "lr 5.666667e-07 reg 1.833333e+04 train accuracy: 0.303265 val accuracy: 0.317000\n",
      "lr 5.666667e-07 reg 2.000000e+04 train accuracy: 0.308449 val accuracy: 0.331000\n",
      "lr 5.888889e-07 reg 5.000000e+03 train accuracy: 0.235551 val accuracy: 0.263000\n",
      "lr 5.888889e-07 reg 6.666667e+03 train accuracy: 0.255469 val accuracy: 0.272000\n",
      "lr 5.888889e-07 reg 8.333333e+03 train accuracy: 0.261020 val accuracy: 0.275000\n",
      "lr 5.888889e-07 reg 1.000000e+04 train accuracy: 0.269000 val accuracy: 0.279000\n",
      "lr 5.888889e-07 reg 1.166667e+04 train accuracy: 0.276776 val accuracy: 0.253000\n",
      "lr 5.888889e-07 reg 1.333333e+04 train accuracy: 0.283878 val accuracy: 0.301000\n",
      "lr 5.888889e-07 reg 1.500000e+04 train accuracy: 0.291327 val accuracy: 0.296000\n",
      "lr 5.888889e-07 reg 1.666667e+04 train accuracy: 0.305571 val accuracy: 0.301000\n",
      "lr 5.888889e-07 reg 1.833333e+04 train accuracy: 0.309020 val accuracy: 0.318000\n",
      "lr 5.888889e-07 reg 2.000000e+04 train accuracy: 0.317776 val accuracy: 0.324000\n",
      "lr 6.111111e-07 reg 5.000000e+03 train accuracy: 0.240265 val accuracy: 0.247000\n",
      "lr 6.111111e-07 reg 6.666667e+03 train accuracy: 0.245816 val accuracy: 0.245000\n",
      "lr 6.111111e-07 reg 8.333333e+03 train accuracy: 0.257918 val accuracy: 0.259000\n",
      "lr 6.111111e-07 reg 1.000000e+04 train accuracy: 0.273245 val accuracy: 0.279000\n",
      "lr 6.111111e-07 reg 1.166667e+04 train accuracy: 0.289102 val accuracy: 0.298000\n",
      "lr 6.111111e-07 reg 1.333333e+04 train accuracy: 0.296204 val accuracy: 0.296000\n",
      "lr 6.111111e-07 reg 1.500000e+04 train accuracy: 0.291959 val accuracy: 0.322000\n",
      "lr 6.111111e-07 reg 1.666667e+04 train accuracy: 0.296653 val accuracy: 0.297000\n",
      "lr 6.111111e-07 reg 1.833333e+04 train accuracy: 0.312347 val accuracy: 0.322000\n",
      "lr 6.111111e-07 reg 2.000000e+04 train accuracy: 0.306653 val accuracy: 0.322000\n",
      "lr 6.333333e-07 reg 5.000000e+03 train accuracy: 0.239878 val accuracy: 0.250000\n",
      "lr 6.333333e-07 reg 6.666667e+03 train accuracy: 0.255367 val accuracy: 0.240000\n",
      "lr 6.333333e-07 reg 8.333333e+03 train accuracy: 0.259061 val accuracy: 0.252000\n",
      "lr 6.333333e-07 reg 1.000000e+04 train accuracy: 0.275347 val accuracy: 0.265000\n",
      "lr 6.333333e-07 reg 1.166667e+04 train accuracy: 0.287143 val accuracy: 0.292000\n",
      "lr 6.333333e-07 reg 1.333333e+04 train accuracy: 0.297980 val accuracy: 0.302000\n",
      "lr 6.333333e-07 reg 1.500000e+04 train accuracy: 0.302041 val accuracy: 0.313000\n",
      "lr 6.333333e-07 reg 1.666667e+04 train accuracy: 0.317102 val accuracy: 0.303000\n",
      "lr 6.333333e-07 reg 1.833333e+04 train accuracy: 0.312245 val accuracy: 0.331000\n",
      "lr 6.333333e-07 reg 2.000000e+04 train accuracy: 0.313020 val accuracy: 0.322000\n",
      "lr 6.555556e-07 reg 5.000000e+03 train accuracy: 0.232224 val accuracy: 0.253000\n",
      "lr 6.555556e-07 reg 6.666667e+03 train accuracy: 0.252306 val accuracy: 0.257000\n",
      "lr 6.555556e-07 reg 8.333333e+03 train accuracy: 0.263939 val accuracy: 0.284000\n",
      "lr 6.555556e-07 reg 1.000000e+04 train accuracy: 0.283449 val accuracy: 0.276000\n",
      "lr 6.555556e-07 reg 1.166667e+04 train accuracy: 0.293082 val accuracy: 0.298000\n",
      "lr 6.555556e-07 reg 1.333333e+04 train accuracy: 0.297429 val accuracy: 0.303000\n",
      "lr 6.555556e-07 reg 1.500000e+04 train accuracy: 0.307327 val accuracy: 0.310000\n",
      "lr 6.555556e-07 reg 1.666667e+04 train accuracy: 0.318531 val accuracy: 0.334000\n",
      "lr 6.555556e-07 reg 1.833333e+04 train accuracy: 0.305918 val accuracy: 0.323000\n",
      "lr 6.555556e-07 reg 2.000000e+04 train accuracy: 0.324286 val accuracy: 0.335000\n",
      "lr 6.777778e-07 reg 5.000000e+03 train accuracy: 0.239245 val accuracy: 0.241000\n",
      "lr 6.777778e-07 reg 6.666667e+03 train accuracy: 0.257918 val accuracy: 0.275000\n",
      "lr 6.777778e-07 reg 8.333333e+03 train accuracy: 0.278551 val accuracy: 0.288000\n",
      "lr 6.777778e-07 reg 1.000000e+04 train accuracy: 0.279980 val accuracy: 0.282000\n",
      "lr 6.777778e-07 reg 1.166667e+04 train accuracy: 0.296776 val accuracy: 0.318000\n",
      "lr 6.777778e-07 reg 1.333333e+04 train accuracy: 0.308878 val accuracy: 0.315000\n",
      "lr 6.777778e-07 reg 1.500000e+04 train accuracy: 0.303143 val accuracy: 0.316000\n",
      "lr 6.777778e-07 reg 1.666667e+04 train accuracy: 0.314082 val accuracy: 0.335000\n",
      "lr 6.777778e-07 reg 1.833333e+04 train accuracy: 0.325245 val accuracy: 0.328000\n",
      "lr 6.777778e-07 reg 2.000000e+04 train accuracy: 0.316327 val accuracy: 0.309000\n",
      "lr 7.000000e-07 reg 5.000000e+03 train accuracy: 0.242735 val accuracy: 0.247000\n",
      "lr 7.000000e-07 reg 6.666667e+03 train accuracy: 0.263653 val accuracy: 0.299000\n",
      "lr 7.000000e-07 reg 8.333333e+03 train accuracy: 0.278837 val accuracy: 0.281000\n",
      "lr 7.000000e-07 reg 1.000000e+04 train accuracy: 0.287061 val accuracy: 0.286000\n",
      "lr 7.000000e-07 reg 1.166667e+04 train accuracy: 0.291531 val accuracy: 0.286000\n",
      "lr 7.000000e-07 reg 1.333333e+04 train accuracy: 0.304184 val accuracy: 0.313000\n",
      "lr 7.000000e-07 reg 1.500000e+04 train accuracy: 0.316878 val accuracy: 0.317000\n",
      "lr 7.000000e-07 reg 1.666667e+04 train accuracy: 0.320102 val accuracy: 0.326000\n",
      "lr 7.000000e-07 reg 1.833333e+04 train accuracy: 0.325000 val accuracy: 0.341000\n",
      "lr 7.000000e-07 reg 2.000000e+04 train accuracy: 0.320327 val accuracy: 0.351000\n",
      "best validation accuracy achieved during cross-validation: 0.351000\n"
     ]
    }
   ],
   "source": [
    "# Use the validation set to tune hyperparameters (regularization strength and\n",
    "# learning rate). You should experiment with different ranges for the learning\n",
    "# rates and regularization strengths; if you are careful you should be able to\n",
    "# get a classification accuracy of over 0.35 on the validation set.\n",
    "from cs231n.classifiers import Softmax\n",
    "results = {}\n",
    "best_val = -1\n",
    "best_softmax = None\n",
    "learning_rates = np.linspace(5e-7, 7e-7, 10)\n",
    "regularization_strengths = np.linspace(5e3, 2e4, 10)\n",
    "\n",
    "################################################################################\n",
    "# TODO:                                                                        #\n",
    "# Use the validation set to set the learning rate and regularization strength. #\n",
    "# This should be identical to the validation that you did for the SVM; save    #\n",
    "# the best trained softmax classifer in best_softmax.                          #\n",
    "################################################################################\n",
    "\n",
    "num_iter = 100\n",
    "for lr in learning_rates:\n",
    "    for rs in regularization_strengths:\n",
    "        cur_softmax = Softmax()\n",
    "        cur_softmax.train(X_train, y_train, lr, rs, num_iter)\n",
    "        get_acc = lambda X, y: np.sum(cur_softmax.predict(X) == y) / X.shape[0]\n",
    "        train_acc = get_acc(X_train, y_train)\n",
    "        val_acc = get_acc(X_val, y_val)\n",
    "        results[(lr, rs)] = (train_acc, val_acc)\n",
    "        if val_acc > best_val:\n",
    "            best_val = val_acc\n",
    "            best_softmax = cur_softmax\n",
    "################################################################################\n",
    "#                              END OF YOUR CODE                                #\n",
    "################################################################################\n",
    "    \n",
    "# Print out results.\n",
    "for lr, reg in sorted(results):\n",
    "    train_accuracy, val_accuracy = results[(lr, reg)]\n",
    "    print('lr %e reg %e train accuracy: %f val accuracy: %f' % (\n",
    "                lr, reg, train_accuracy, val_accuracy))\n",
    "    \n",
    "print('best validation accuracy achieved during cross-validation: %f' % best_val)"
   ]
  },
  {
   "cell_type": "code",
   "execution_count": 39,
   "metadata": {},
   "outputs": [
    {
     "name": "stdout",
     "output_type": "stream",
     "text": [
      "softmax on raw pixels final test set accuracy: 0.334000\n"
     ]
    }
   ],
   "source": [
    "# evaluate on test set\n",
    "# Evaluate the best softmax on test set\n",
    "y_test_pred = best_softmax.predict(X_test)\n",
    "test_accuracy = np.mean(y_test == y_test_pred)\n",
    "print('softmax on raw pixels final test set accuracy: %f' % (test_accuracy, ))"
   ]
  },
  {
   "cell_type": "markdown",
   "metadata": {},
   "source": [
    "**Inline Question** - *True or False*\n",
    "\n",
    "It's possible to add a new datapoint to a training set that would leave the SVM loss unchanged, but this is not the case with the Softmax classifier loss.\n",
    "\n",
    "*Your answer*:\n",
    "\n",
    "*Your explanation*:"
   ]
  },
  {
   "cell_type": "code",
   "execution_count": 40,
   "metadata": {},
   "outputs": [
    {
     "data": {
      "image/png": "[encoded data removed]",
      "text/plain": [
       "<Figure size 432x288 with 10 Axes>"
      ]
     },
     "metadata": {
      "needs_background": "light"
     },
     "output_type": "display_data"
    }
   ],
   "source": [
    "# Visualize the learned weights for each class\n",
    "w = best_softmax.W[:-1,:] # strip out the bias\n",
    "w = w.reshape(32, 32, 3, 10)\n",
    "\n",
    "w_min, w_max = np.min(w), np.max(w)\n",
    "\n",
    "classes = ['plane', 'car', 'bird', 'cat', 'deer', 'dog', 'frog', 'horse', 'ship', 'truck']\n",
    "for i in range(10):\n",
    "    plt.subplot(2, 5, i + 1)\n",
    "    \n",
    "    # Rescale the weights to be between 0 and 255\n",
    "    wimg = 255.0 * (w[:, :, :, i].squeeze() - w_min) / (w_max - w_min)\n",
    "    plt.imshow(wimg.astype('uint8'))\n",
    "    plt.axis('off')\n",
    "    plt.title(classes[i])"
   ]
  }
 ],
 "metadata": {
  "kernelspec": {
   "display_name": "Python 3",
   "language": "python",
   "name": "python3"
  },
  "language_info": {
   "codemirror_mode": {
    "name": "ipython",
    "version": 3
   },
   "file_extension": ".py",
   "mimetype": "text/x-python",
   "name": "python",
   "nbconvert_exporter": "python",
   "pygments_lexer": "ipython3",
   "version": "3.7.2"
  }
 },
 "nbformat": 4,
 "nbformat_minor": 1
}
