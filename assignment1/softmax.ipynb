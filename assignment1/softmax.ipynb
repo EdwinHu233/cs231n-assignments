{
 "cells": [
  {
   "cell_type": "markdown",
   "metadata": {},
   "source": [
    "# Softmax exercise\n",
    "\n",
    "*Complete and hand in this completed worksheet (including its outputs and any supporting code outside of the worksheet) with your assignment submission. For more details see the [assignments page](http://vision.stanford.edu/teaching/cs231n/assignments.html) on the course website.*\n",
    "\n",
    "This exercise is analogous to the SVM exercise. You will:\n",
    "\n",
    "- implement a fully-vectorized **loss function** for the Softmax classifier\n",
    "- implement the fully-vectorized expression for its **analytic gradient**\n",
    "- **check your implementation** with numerical gradient\n",
    "- use a validation set to **tune the learning rate and regularization** strength\n",
    "- **optimize** the loss function with **SGD**\n",
    "- **visualize** the final learned weights\n"
   ]
  },
  {
   "cell_type": "code",
   "execution_count": 1,
   "metadata": {},
   "outputs": [],
   "source": [
    "import random\n",
    "import numpy as np\n",
    "from cs231n.data_utils import load_CIFAR10\n",
    "import matplotlib.pyplot as plt\n",
    "\n",
    "# from __future__ import print_function\n",
    "\n",
    "%matplotlib inline\n",
    "plt.rcParams['figure.figsize'] = (10.0, 8.0) # set default size of plots\n",
    "plt.rcParams['image.interpolation'] = 'nearest'\n",
    "plt.rcParams['image.cmap'] = 'gray'\n",
    "\n",
    "# for auto-reloading extenrnal modules\n",
    "# see http://stackoverflow.com/questions/1907993/autoreload-of-modules-in-ipython\n",
    "%load_ext autoreload\n",
    "%autoreload 2"
   ]
  },
  {
   "cell_type": "code",
   "execution_count": 2,
   "metadata": {},
   "outputs": [
    {
     "name": "stdout",
     "output_type": "stream",
     "text": [
      "Train data shape:  (49000, 3073)\n",
      "Train labels shape:  (49000,)\n",
      "Validation data shape:  (1000, 3073)\n",
      "Validation labels shape:  (1000,)\n",
      "Test data shape:  (1000, 3073)\n",
      "Test labels shape:  (1000,)\n",
      "dev data shape:  (500, 3073)\n",
      "dev labels shape:  (500,)\n"
     ]
    }
   ],
   "source": [
    "def get_CIFAR10_data(num_training=49000, num_validation=1000, num_test=1000, num_dev=500):\n",
    "    \"\"\"\n",
    "    Load the CIFAR-10 dataset from disk and perform preprocessing to prepare\n",
    "    it for the linear classifier. These are the same steps as we used for the\n",
    "    SVM, but condensed to a single function.  \n",
    "    \"\"\"\n",
    "    # Load the raw CIFAR-10 data\n",
    "    cifar10_dir = 'cs231n/datasets/cifar-10-batches-py'\n",
    "    \n",
    "    X_train, y_train, X_test, y_test = load_CIFAR10(cifar10_dir)\n",
    "    \n",
    "    # subsample the data\n",
    "    mask = list(range(num_training, num_training + num_validation))\n",
    "    X_val = X_train[mask]\n",
    "    y_val = y_train[mask]\n",
    "    mask = list(range(num_training))\n",
    "    X_train = X_train[mask]\n",
    "    y_train = y_train[mask]\n",
    "    mask = list(range(num_test))\n",
    "    X_test = X_test[mask]\n",
    "    y_test = y_test[mask]\n",
    "    mask = np.random.choice(num_training, num_dev, replace=False)\n",
    "    X_dev = X_train[mask]\n",
    "    y_dev = y_train[mask]\n",
    "    \n",
    "    # Preprocessing: reshape the image data into rows\n",
    "    X_train = np.reshape(X_train, (X_train.shape[0], -1))\n",
    "    X_val = np.reshape(X_val, (X_val.shape[0], -1))\n",
    "    X_test = np.reshape(X_test, (X_test.shape[0], -1))\n",
    "    X_dev = np.reshape(X_dev, (X_dev.shape[0], -1))\n",
    "    \n",
    "    # Normalize the data: subtract the mean image\n",
    "    mean_image = np.mean(X_train, axis = 0)\n",
    "    X_train -= mean_image\n",
    "    X_val -= mean_image\n",
    "    X_test -= mean_image\n",
    "    X_dev -= mean_image\n",
    "    \n",
    "    # add bias dimension and transform into columns\n",
    "    X_train = np.hstack([X_train, np.ones((X_train.shape[0], 1))])\n",
    "    X_val = np.hstack([X_val, np.ones((X_val.shape[0], 1))])\n",
    "    X_test = np.hstack([X_test, np.ones((X_test.shape[0], 1))])\n",
    "    X_dev = np.hstack([X_dev, np.ones((X_dev.shape[0], 1))])\n",
    "    \n",
    "    return X_train, y_train, X_val, y_val, X_test, y_test, X_dev, y_dev\n",
    "\n",
    "\n",
    "# Cleaning up variables to prevent loading data multiple times (which may cause memory issue)\n",
    "try:\n",
    "   del X_train, y_train\n",
    "   del X_test, y_test\n",
    "   print('Clear previously loaded data.')\n",
    "except:\n",
    "   pass\n",
    "\n",
    "# Invoke the above function to get our data.\n",
    "X_train, y_train, X_val, y_val, X_test, y_test, X_dev, y_dev = get_CIFAR10_data()\n",
    "print('Train data shape: ', X_train.shape)\n",
    "print('Train labels shape: ', y_train.shape)\n",
    "print('Validation data shape: ', X_val.shape)\n",
    "print('Validation labels shape: ', y_val.shape)\n",
    "print('Test data shape: ', X_test.shape)\n",
    "print('Test labels shape: ', y_test.shape)\n",
    "print('dev data shape: ', X_dev.shape)\n",
    "print('dev labels shape: ', y_dev.shape)"
   ]
  },
  {
   "cell_type": "markdown",
   "metadata": {},
   "source": [
    "## Softmax Classifier\n",
    "\n",
    "Your code for this section will all be written inside **cs231n/classifiers/softmax.py**. \n"
   ]
  },
  {
   "cell_type": "code",
   "execution_count": 3,
   "metadata": {
    "scrolled": false
   },
   "outputs": [
    {
     "name": "stdout",
     "output_type": "stream",
     "text": [
      "loss: 2.386918\n",
      "sanity check: 2.302585\n"
     ]
    }
   ],
   "source": [
    "# First implement the naive softmax loss function with nested loops.\n",
    "# Open the file cs231n/classifiers/softmax.py and implement the\n",
    "# softmax_loss_naive function.\n",
    "\n",
    "from cs231n.classifiers.softmax import softmax_loss_naive\n",
    "import time\n",
    "\n",
    "# Generate a random softmax weight matrix and use it to compute the loss.\n",
    "W = np.random.randn(3073, 10) * 0.0001\n",
    "loss, grad = softmax_loss_naive(W, X_dev, y_dev, 0.0)\n",
    "\n",
    "# As a rough sanity check, our loss should be something close to -log(0.1).\n",
    "print('loss: %f' % loss)\n",
    "print('sanity check: %f' % (-np.log(0.1)))"
   ]
  },
  {
   "cell_type": "markdown",
   "metadata": {},
   "source": [
    "## Inline Question 1:\n",
    "Why do we expect our loss to be close to -log(0.1)? Explain briefly.**\n",
    "\n",
    "**Your answer:** *Fill this in*\n"
   ]
  },
  {
   "cell_type": "code",
   "execution_count": 4,
   "metadata": {},
   "outputs": [
    {
     "name": "stdout",
     "output_type": "stream",
     "text": [
      "numerical: 5.122914 analytic: 5.122914, relative error: 1.671604e-08\n",
      "numerical: 0.552915 analytic: 0.552915, relative error: 1.256911e-07\n",
      "numerical: 1.922563 analytic: 1.922563, relative error: 2.298518e-08\n",
      "numerical: 5.373421 analytic: 5.373421, relative error: 1.349612e-08\n",
      "numerical: 1.835816 analytic: 1.835816, relative error: 1.642258e-08\n",
      "numerical: -3.504962 analytic: -3.504962, relative error: 1.949453e-08\n",
      "numerical: 0.327366 analytic: 0.327366, relative error: 7.873171e-08\n",
      "numerical: 3.106833 analytic: 3.106833, relative error: 6.729302e-09\n",
      "numerical: 1.287197 analytic: 1.287197, relative error: 4.361819e-08\n",
      "numerical: -4.214010 analytic: -4.214010, relative error: 1.187622e-08\n",
      "numerical: 0.644008 analytic: 0.644008, relative error: 1.429733e-07\n",
      "numerical: 1.379161 analytic: 1.379161, relative error: 1.894179e-08\n",
      "numerical: 0.631364 analytic: 0.631364, relative error: 1.080428e-07\n",
      "numerical: -5.029661 analytic: -5.029661, relative error: 7.329138e-09\n",
      "numerical: 2.681773 analytic: 2.681772, relative error: 3.171854e-08\n",
      "numerical: -2.119268 analytic: -2.119268, relative error: 3.569615e-08\n",
      "numerical: 2.042811 analytic: 2.042811, relative error: 1.570356e-09\n",
      "numerical: -0.644740 analytic: -0.644740, relative error: 8.612574e-08\n",
      "numerical: 1.788666 analytic: 1.788666, relative error: 1.674311e-08\n",
      "numerical: -3.394489 analytic: -3.394489, relative error: 1.375484e-08\n"
     ]
    }
   ],
   "source": [
    "# Complete the implementation of softmax_loss_naive and implement a (naive)\n",
    "# version of the gradient that uses nested loops.\n",
    "loss, grad = softmax_loss_naive(W, X_dev, y_dev, 0.0)\n",
    "\n",
    "# As we did for the SVM, use numeric gradient checking as a debugging tool.\n",
    "# The numeric gradient should be close to the analytic gradient.\n",
    "from cs231n.gradient_check import grad_check_sparse\n",
    "f = lambda w: softmax_loss_naive(w, X_dev, y_dev, 0.0)[0]\n",
    "grad_numerical = grad_check_sparse(f, W, grad, 10)\n",
    "\n",
    "# similar to SVM case, do another gradient check with regularization\n",
    "loss, grad = softmax_loss_naive(W, X_dev, y_dev, 5e1)\n",
    "f = lambda w: softmax_loss_naive(w, X_dev, y_dev, 5e1)[0]\n",
    "grad_numerical = grad_check_sparse(f, W, grad, 10)"
   ]
  },
  {
   "cell_type": "code",
   "execution_count": 5,
   "metadata": {},
   "outputs": [
    {
     "name": "stdout",
     "output_type": "stream",
     "text": [
      "naive loss: 2.386918e+00 computed in 0.194310s\n",
      "vectorized loss: 2.386918e+00 computed in 0.034612s\n",
      "Loss difference: 0.000000\n",
      "Gradient difference: 0.000000\n"
     ]
    }
   ],
   "source": [
    "# Now that we have a naive implementation of the softmax loss function and its gradient,\n",
    "# implement a vectorized version in softmax_loss_vectorized.\n",
    "# The two versions should compute the same results, but the vectorized version should be\n",
    "# much faster.\n",
    "tic = time.time()\n",
    "loss_naive, grad_naive = softmax_loss_naive(W, X_dev, y_dev, 0.000005)\n",
    "toc = time.time()\n",
    "print('naive loss: %e computed in %fs' % (loss_naive, toc - tic))\n",
    "\n",
    "from cs231n.classifiers.softmax import softmax_loss_vectorized\n",
    "tic = time.time()\n",
    "loss_vectorized, grad_vectorized = softmax_loss_vectorized(W, X_dev, y_dev, 0.000005)\n",
    "toc = time.time()\n",
    "print('vectorized loss: %e computed in %fs' % (loss_vectorized, toc - tic))\n",
    "\n",
    "# As we did for the SVM, we use the Frobenius norm to compare the two versions\n",
    "# of the gradient.\n",
    "grad_difference = np.linalg.norm(grad_naive - grad_vectorized, ord='fro')\n",
    "print('Loss difference: %f' % np.abs(loss_naive - loss_vectorized))\n",
    "print('Gradient difference: %f' % grad_difference)"
   ]
  },
  {
   "cell_type": "code",
   "execution_count": 6,
   "metadata": {},
   "outputs": [
    {
     "name": "stdout",
     "output_type": "stream",
     "text": [
      "lr 5.000000e-07 reg 5.000000e+03 train accuracy: 0.215143 val accuracy: 0.221000\n",
      "lr 5.000000e-07 reg 6.666667e+03 train accuracy: 0.226388 val accuracy: 0.211000\n",
      "lr 5.000000e-07 reg 8.333333e+03 train accuracy: 0.238061 val accuracy: 0.240000\n",
      "lr 5.000000e-07 reg 1.000000e+04 train accuracy: 0.249959 val accuracy: 0.247000\n",
      "lr 5.000000e-07 reg 1.166667e+04 train accuracy: 0.252245 val accuracy: 0.259000\n",
      "lr 5.000000e-07 reg 1.333333e+04 train accuracy: 0.274265 val accuracy: 0.271000\n",
      "lr 5.000000e-07 reg 1.500000e+04 train accuracy: 0.272673 val accuracy: 0.287000\n",
      "lr 5.000000e-07 reg 1.666667e+04 train accuracy: 0.286959 val accuracy: 0.305000\n",
      "lr 5.000000e-07 reg 1.833333e+04 train accuracy: 0.287306 val accuracy: 0.315000\n",
      "lr 5.000000e-07 reg 2.000000e+04 train accuracy: 0.296857 val accuracy: 0.296000\n",
      "lr 5.222222e-07 reg 5.000000e+03 train accuracy: 0.217061 val accuracy: 0.216000\n",
      "lr 5.222222e-07 reg 6.666667e+03 train accuracy: 0.231918 val accuracy: 0.241000\n",
      "lr 5.222222e-07 reg 8.333333e+03 train accuracy: 0.241612 val accuracy: 0.247000\n",
      "lr 5.222222e-07 reg 1.000000e+04 train accuracy: 0.255735 val accuracy: 0.270000\n",
      "lr 5.222222e-07 reg 1.166667e+04 train accuracy: 0.269327 val accuracy: 0.275000\n",
      "lr 5.222222e-07 reg 1.333333e+04 train accuracy: 0.274510 val accuracy: 0.262000\n",
      "lr 5.222222e-07 reg 1.500000e+04 train accuracy: 0.275204 val accuracy: 0.282000\n",
      "lr 5.222222e-07 reg 1.666667e+04 train accuracy: 0.290571 val accuracy: 0.298000\n",
      "lr 5.222222e-07 reg 1.833333e+04 train accuracy: 0.298918 val accuracy: 0.289000\n",
      "lr 5.222222e-07 reg 2.000000e+04 train accuracy: 0.295571 val accuracy: 0.298000\n",
      "lr 5.444444e-07 reg 5.000000e+03 train accuracy: 0.233980 val accuracy: 0.261000\n",
      "lr 5.444444e-07 reg 6.666667e+03 train accuracy: 0.247714 val accuracy: 0.266000\n",
      "lr 5.444444e-07 reg 8.333333e+03 train accuracy: 0.247714 val accuracy: 0.259000\n",
      "lr 5.444444e-07 reg 1.000000e+04 train accuracy: 0.263469 val accuracy: 0.259000\n",
      "lr 5.444444e-07 reg 1.166667e+04 train accuracy: 0.262061 val accuracy: 0.298000\n",
      "lr 5.444444e-07 reg 1.333333e+04 train accuracy: 0.270224 val accuracy: 0.262000\n",
      "lr 5.444444e-07 reg 1.500000e+04 train accuracy: 0.281429 val accuracy: 0.302000\n",
      "lr 5.444444e-07 reg 1.666667e+04 train accuracy: 0.298367 val accuracy: 0.311000\n",
      "lr 5.444444e-07 reg 1.833333e+04 train accuracy: 0.299898 val accuracy: 0.296000\n",
      "lr 5.444444e-07 reg 2.000000e+04 train accuracy: 0.303327 val accuracy: 0.314000\n",
      "lr 5.666667e-07 reg 5.000000e+03 train accuracy: 0.226184 val accuracy: 0.229000\n",
      "lr 5.666667e-07 reg 6.666667e+03 train accuracy: 0.239612 val accuracy: 0.243000\n",
      "lr 5.666667e-07 reg 8.333333e+03 train accuracy: 0.254592 val accuracy: 0.243000\n",
      "lr 5.666667e-07 reg 1.000000e+04 train accuracy: 0.260245 val accuracy: 0.269000\n",
      "lr 5.666667e-07 reg 1.166667e+04 train accuracy: 0.276918 val accuracy: 0.284000\n",
      "lr 5.666667e-07 reg 1.333333e+04 train accuracy: 0.281388 val accuracy: 0.291000\n",
      "lr 5.666667e-07 reg 1.500000e+04 train accuracy: 0.283898 val accuracy: 0.309000\n",
      "lr 5.666667e-07 reg 1.666667e+04 train accuracy: 0.296000 val accuracy: 0.295000\n",
      "lr 5.666667e-07 reg 1.833333e+04 train accuracy: 0.296306 val accuracy: 0.310000\n",
      "lr 5.666667e-07 reg 2.000000e+04 train accuracy: 0.308980 val accuracy: 0.327000\n",
      "lr 5.888889e-07 reg 5.000000e+03 train accuracy: 0.230653 val accuracy: 0.245000\n",
      "lr 5.888889e-07 reg 6.666667e+03 train accuracy: 0.243041 val accuracy: 0.235000\n",
      "lr 5.888889e-07 reg 8.333333e+03 train accuracy: 0.251898 val accuracy: 0.260000\n",
      "lr 5.888889e-07 reg 1.000000e+04 train accuracy: 0.266510 val accuracy: 0.289000\n",
      "lr 5.888889e-07 reg 1.166667e+04 train accuracy: 0.282245 val accuracy: 0.302000\n",
      "lr 5.888889e-07 reg 1.333333e+04 train accuracy: 0.281571 val accuracy: 0.280000\n",
      "lr 5.888889e-07 reg 1.500000e+04 train accuracy: 0.296837 val accuracy: 0.304000\n",
      "lr 5.888889e-07 reg 1.666667e+04 train accuracy: 0.303102 val accuracy: 0.311000\n",
      "lr 5.888889e-07 reg 1.833333e+04 train accuracy: 0.305980 val accuracy: 0.315000\n",
      "lr 5.888889e-07 reg 2.000000e+04 train accuracy: 0.312796 val accuracy: 0.329000\n",
      "lr 6.111111e-07 reg 5.000000e+03 train accuracy: 0.237510 val accuracy: 0.249000\n",
      "lr 6.111111e-07 reg 6.666667e+03 train accuracy: 0.242837 val accuracy: 0.279000\n",
      "lr 6.111111e-07 reg 8.333333e+03 train accuracy: 0.256367 val accuracy: 0.252000\n",
      "lr 6.111111e-07 reg 1.000000e+04 train accuracy: 0.277388 val accuracy: 0.290000\n",
      "lr 6.111111e-07 reg 1.166667e+04 train accuracy: 0.272122 val accuracy: 0.270000\n",
      "lr 6.111111e-07 reg 1.333333e+04 train accuracy: 0.296020 val accuracy: 0.306000\n",
      "lr 6.111111e-07 reg 1.500000e+04 train accuracy: 0.302245 val accuracy: 0.313000\n",
      "lr 6.111111e-07 reg 1.666667e+04 train accuracy: 0.309796 val accuracy: 0.331000\n",
      "lr 6.111111e-07 reg 1.833333e+04 train accuracy: 0.307612 val accuracy: 0.322000\n",
      "lr 6.111111e-07 reg 2.000000e+04 train accuracy: 0.311388 val accuracy: 0.315000\n",
      "lr 6.333333e-07 reg 5.000000e+03 train accuracy: 0.241673 val accuracy: 0.233000\n",
      "lr 6.333333e-07 reg 6.666667e+03 train accuracy: 0.255755 val accuracy: 0.256000\n",
      "lr 6.333333e-07 reg 8.333333e+03 train accuracy: 0.260673 val accuracy: 0.286000\n",
      "lr 6.333333e-07 reg 1.000000e+04 train accuracy: 0.274918 val accuracy: 0.285000\n",
      "lr 6.333333e-07 reg 1.166667e+04 train accuracy: 0.279163 val accuracy: 0.274000\n",
      "lr 6.333333e-07 reg 1.333333e+04 train accuracy: 0.294776 val accuracy: 0.315000\n",
      "lr 6.333333e-07 reg 1.500000e+04 train accuracy: 0.301959 val accuracy: 0.305000\n",
      "lr 6.333333e-07 reg 1.666667e+04 train accuracy: 0.310755 val accuracy: 0.304000\n",
      "lr 6.333333e-07 reg 1.833333e+04 train accuracy: 0.311633 val accuracy: 0.327000\n",
      "lr 6.333333e-07 reg 2.000000e+04 train accuracy: 0.314776 val accuracy: 0.308000\n",
      "lr 6.555556e-07 reg 5.000000e+03 train accuracy: 0.234735 val accuracy: 0.220000\n",
      "lr 6.555556e-07 reg 6.666667e+03 train accuracy: 0.258592 val accuracy: 0.256000\n",
      "lr 6.555556e-07 reg 8.333333e+03 train accuracy: 0.272143 val accuracy: 0.280000\n",
      "lr 6.555556e-07 reg 1.000000e+04 train accuracy: 0.279082 val accuracy: 0.267000\n",
      "lr 6.555556e-07 reg 1.166667e+04 train accuracy: 0.291898 val accuracy: 0.293000\n",
      "lr 6.555556e-07 reg 1.333333e+04 train accuracy: 0.301694 val accuracy: 0.304000\n",
      "lr 6.555556e-07 reg 1.500000e+04 train accuracy: 0.308388 val accuracy: 0.317000\n",
      "lr 6.555556e-07 reg 1.666667e+04 train accuracy: 0.311388 val accuracy: 0.327000\n",
      "lr 6.555556e-07 reg 1.833333e+04 train accuracy: 0.322898 val accuracy: 0.324000\n",
      "lr 6.555556e-07 reg 2.000000e+04 train accuracy: 0.323939 val accuracy: 0.328000\n",
      "lr 6.777778e-07 reg 5.000000e+03 train accuracy: 0.252265 val accuracy: 0.235000\n",
      "lr 6.777778e-07 reg 6.666667e+03 train accuracy: 0.245020 val accuracy: 0.233000\n",
      "lr 6.777778e-07 reg 8.333333e+03 train accuracy: 0.270429 val accuracy: 0.278000\n",
      "lr 6.777778e-07 reg 1.000000e+04 train accuracy: 0.277612 val accuracy: 0.286000\n",
      "lr 6.777778e-07 reg 1.166667e+04 train accuracy: 0.293776 val accuracy: 0.297000\n",
      "lr 6.777778e-07 reg 1.333333e+04 train accuracy: 0.299857 val accuracy: 0.310000\n",
      "lr 6.777778e-07 reg 1.500000e+04 train accuracy: 0.311429 val accuracy: 0.314000\n",
      "lr 6.777778e-07 reg 1.666667e+04 train accuracy: 0.313265 val accuracy: 0.320000\n",
      "lr 6.777778e-07 reg 1.833333e+04 train accuracy: 0.310837 val accuracy: 0.325000\n",
      "lr 6.777778e-07 reg 2.000000e+04 train accuracy: 0.319673 val accuracy: 0.346000\n",
      "lr 7.000000e-07 reg 5.000000e+03 train accuracy: 0.248143 val accuracy: 0.254000\n",
      "lr 7.000000e-07 reg 6.666667e+03 train accuracy: 0.260041 val accuracy: 0.274000\n",
      "lr 7.000000e-07 reg 8.333333e+03 train accuracy: 0.277735 val accuracy: 0.268000\n",
      "lr 7.000000e-07 reg 1.000000e+04 train accuracy: 0.286347 val accuracy: 0.282000\n",
      "lr 7.000000e-07 reg 1.166667e+04 train accuracy: 0.293510 val accuracy: 0.311000\n",
      "lr 7.000000e-07 reg 1.333333e+04 train accuracy: 0.307673 val accuracy: 0.316000\n",
      "lr 7.000000e-07 reg 1.500000e+04 train accuracy: 0.314388 val accuracy: 0.330000\n",
      "lr 7.000000e-07 reg 1.666667e+04 train accuracy: 0.312592 val accuracy: 0.324000\n",
      "lr 7.000000e-07 reg 1.833333e+04 train accuracy: 0.317837 val accuracy: 0.329000\n",
      "lr 7.000000e-07 reg 2.000000e+04 train accuracy: 0.317531 val accuracy: 0.329000\n",
      "best validation accuracy achieved during cross-validation: 0.346000\n"
     ]
    }
   ],
   "source": [
    "# Use the validation set to tune hyperparameters (regularization strength and\n",
    "# learning rate). You should experiment with different ranges for the learning\n",
    "# rates and regularization strengths; if you are careful you should be able to\n",
    "# get a classification accuracy of over 0.35 on the validation set.\n",
    "from cs231n.classifiers import Softmax\n",
    "results = {}\n",
    "best_val = -1\n",
    "best_softmax = None\n",
    "learning_rates = np.linspace(5e-7, 7e-7, 10)\n",
    "regularization_strengths = np.linspace(5e3, 2e4, 10)\n",
    "\n",
    "################################################################################\n",
    "# TODO:                                                                        #\n",
    "# Use the validation set to set the learning rate and regularization strength. #\n",
    "# This should be identical to the validation that you did for the SVM; save    #\n",
    "# the best trained softmax classifer in best_softmax.                          #\n",
    "################################################################################\n",
    "\n",
    "num_iter = 100\n",
    "for lr in learning_rates:\n",
    "    for rs in regularization_strengths:\n",
    "        cur_softmax = Softmax()\n",
    "        cur_softmax.train(X_train, y_train, lr, rs, num_iter)\n",
    "        get_acc = lambda X, y: np.sum(cur_softmax.predict(X) == y) / X.shape[0]\n",
    "        train_acc = get_acc(X_train, y_train)\n",
    "        val_acc = get_acc(X_val, y_val)\n",
    "        results[(lr, rs)] = (train_acc, val_acc)\n",
    "        if val_acc > best_val:\n",
    "            best_val = val_acc\n",
    "            best_softmax = cur_softmax\n",
    "################################################################################\n",
    "#                              END OF YOUR CODE                                #\n",
    "################################################################################\n",
    "    \n",
    "# Print out results.\n",
    "for lr, reg in sorted(results):\n",
    "    train_accuracy, val_accuracy = results[(lr, reg)]\n",
    "    print('lr %e reg %e train accuracy: %f val accuracy: %f' % (\n",
    "                lr, reg, train_accuracy, val_accuracy))\n",
    "    \n",
    "print('best validation accuracy achieved during cross-validation: %f' % best_val)"
   ]
  },
  {
   "cell_type": "code",
   "execution_count": 7,
   "metadata": {},
   "outputs": [
    {
     "name": "stdout",
     "output_type": "stream",
     "text": [
      "softmax on raw pixels final test set accuracy: 0.331000\n"
     ]
    }
   ],
   "source": [
    "# evaluate on test set\n",
    "# Evaluate the best softmax on test set\n",
    "y_test_pred = best_softmax.predict(X_test)\n",
    "test_accuracy = np.mean(y_test == y_test_pred)\n",
    "print('softmax on raw pixels final test set accuracy: %f' % (test_accuracy, ))"
   ]
  },
  {
   "cell_type": "markdown",
   "metadata": {},
   "source": [
    "**Inline Question** - *True or False*\n",
    "\n",
    "It's possible to add a new datapoint to a training set that would leave the SVM loss unchanged, but this is not the case with the Softmax classifier loss.\n",
    "\n",
    "*Your answer*:\n",
    "\n",
    "*Your explanation*:"
   ]
  },
  {
   "cell_type": "code",
   "execution_count": 8,
   "metadata": {},
   "outputs": [
    {
     "data": {
      "image/png": "[encoded data removed]",
      "text/plain": [
       "<Figure size 432x288 with 10 Axes>"
      ]
     },
     "metadata": {
      "needs_background": "light"
     },
     "output_type": "display_data"
    }
   ],
   "source": [
    "# Visualize the learned weights for each class\n",
    "w = best_softmax.W[:-1,:] # strip out the bias\n",
    "w = w.reshape(32, 32, 3, 10)\n",
    "\n",
    "w_min, w_max = np.min(w), np.max(w)\n",
    "\n",
    "classes = ['plane', 'car', 'bird', 'cat', 'deer', 'dog', 'frog', 'horse', 'ship', 'truck']\n",
    "for i in range(10):\n",
    "    plt.subplot(2, 5, i + 1)\n",
    "    \n",
    "    # Rescale the weights to be between 0 and 255\n",
    "    wimg = 255.0 * (w[:, :, :, i].squeeze() - w_min) / (w_max - w_min)\n",
    "    plt.imshow(wimg.astype('uint8'))\n",
    "    plt.axis('off')\n",
    "    plt.title(classes[i])"
   ]
  }
 ],
 "metadata": {
  "kernelspec": {
   "display_name": "Python 3",
   "language": "python",
   "name": "python3"
  },
  "language_info": {
   "codemirror_mode": {
    "name": "ipython",
    "version": 3
   },
   "file_extension": ".py",
   "mimetype": "text/x-python",
   "name": "python",
   "nbconvert_exporter": "python",
   "pygments_lexer": "ipython3",
   "version": "3.7.2"
  }
 },
 "nbformat": 4,
 "nbformat_minor": 1
}
